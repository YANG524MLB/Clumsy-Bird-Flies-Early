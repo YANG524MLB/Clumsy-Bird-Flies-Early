{
  "nbformat": 4,
  "nbformat_minor": 0,
  "metadata": {
    "colab": {
      "provenance": []
    },
    "kernelspec": {
      "name": "python3",
      "display_name": "Python 3"
    },
    "language_info": {
      "name": "python"
    }
  },
  "cells": [
    {
      "cell_type": "markdown",
      "source": [
        "**Initialization and Constant Definition**\n",
        "\n",
        "This section initializes the basic settings of the game, including the window size (WIDTH, HEIGHT), the frame rate (FPS), the size of the bird and the pipes, and physics parameters such as gravity and the strength of the bird's jump. pygame.init() is used to initialize Pygame."
      ],
      "metadata": {
        "id": "J5Ni6mryzBhB"
      }
    },
    {
      "cell_type": "code",
      "source": [
        "import pygame\n",
        "import random\n",
        "import pickle\n",
        "import os\n",
        "\n",
        "# Initialize Pygame\n",
        "pygame.init()\n",
        "\n",
        "# Define constants\n",
        "WHITE = (255, 255, 255)  # RGB color for white\n",
        "WIDTH, HEIGHT = 400, 600  # Screen dimensions\n",
        "screen = pygame.display.set_mode((WIDTH, HEIGHT))  # Create a Pygame screen\n",
        "pygame.display.set_caption(\"Clumsy Bird Flies Early\")  # Set window title\n",
        "\n",
        "FPS = 30  # Frames per second\n",
        "BIRD_SIZE = 20  # Bird dimensions\n",
        "PIPE_WIDTH = 50  # Width of pipes\n",
        "PIPE_GAP = 150  # Gap between the top and bottom pipes\n",
        "GRAVITY = 1  # Gravity for bird's motion\n",
        "FLAP_STRENGTH = -10  # Upward velocity when bird flaps"
      ],
      "metadata": {
        "id": "-cA_WNzSzAgR"
      },
      "execution_count": null,
      "outputs": []
    },
    {
      "cell_type": "markdown",
      "source": [
        "**Defines the Core Parameters of the Reinforcement Learning Algorithm**\n",
        "\n",
        "ACTIONS: two actions of the bird (no jump or jump).\n",
        "\n",
        "ALPHA: Learning rate, used to control the step size of the Q-value update.\n",
        "\n",
        "GAMMA: Discount factor, which measures the weight of future rewards.\n",
        "\n",
        "EPSILON: Exploration probability, controls the balance of exploration and utilization of the algorithm. EPSILON decreases (via EPSILON_DECAY) as training progresses, down to EPSILON_MIN."
      ],
      "metadata": {
        "id": "TiSFq_RVzMSW"
      }
    },
    {
      "cell_type": "code",
      "source": [
        "# Reinforcement learning parameters\n",
        "ACTIONS = [0, 1]  # 0: Do nothing, 1: Flap\n",
        "ALPHA = 0.2  # Learning rate\n",
        "GAMMA = 0.9  # Discount factor for future rewards\n",
        "EPSILON = 0.2  # Initial exploration probability\n",
        "EPSILON_DECAY = 0.99  # Decay rate for exploration\n",
        "EPSILON_MIN = 0.01  # Minimum exploration probability"
      ],
      "metadata": {
        "id": "9l-jv1_SzJPD"
      },
      "execution_count": null,
      "outputs": []
    },
    {
      "cell_type": "markdown",
      "source": [
        "**Q Table File Loading and Initialization**\n",
        "\n",
        "The Q table is loaded from a file or initialized to an empty dictionary. If the file exists, the previously stored Q values are loaded; otherwise, an empty table is created. This part uses the pickle serialization technique."
      ],
      "metadata": {
        "id": "5gbXWW0Dz35p"
      }
    },
    {
      "cell_type": "code",
      "source": [
        "# Load or initialize Q-table\n",
        "Q_FILE = \"q_table.pkl\"  # File to save Q-table\n",
        "if os.path.exists(Q_FILE):  # Check if Q-table file exists\n",
        "    with open(Q_FILE, \"rb\") as f:\n",
        "        Q = pickle.load(f)  # Load Q-table from file\n",
        "else:\n",
        "    Q = {}  # Initialize empty Q-table"
      ],
      "metadata": {
        "id": "tKum9uxmz3Yb"
      },
      "execution_count": null,
      "outputs": []
    },
    {
      "cell_type": "markdown",
      "source": [
        "**Defining Auxiliary Functions**\n",
        "\n",
        "These functions are used for reinforcement learning Q-table related operations:\n",
        "\n",
        "get_state(): converts a bird's state into discrete state space.\n",
        "\n",
        "get_q(): gets the state-action value from the Q-table, returning the default value of 0 if it does not exist.\n",
        "\n",
        "\n",
        "set_q(): update the state-action values in the Q-table.\n",
        "\n",
        "save_q_table(): save the Q table to a file to continue training for the next game."
      ],
      "metadata": {
        "id": "aykKSyaF0JPH"
      }
    },
    {
      "cell_type": "code",
      "source": [
        "def get_state(bird_y, pipe_x, pipe_y, bird_velocity):\n",
        "    return (bird_y // 10, pipe_x // 10, pipe_y // 10, int(bird_velocity))\n",
        "\n",
        "def get_q(state, action):\n",
        "    return Q.get((state, action), 0)  # Return 0 if the state-action pair is not in Q-table\n",
        "\n",
        "def set_q(state, action, value):\n",
        "    Q[(state, action)] = value\n",
        "\n",
        "def save_q_table():\n",
        "    with open(Q_FILE, \"wb\") as f:\n",
        "        pickle.dump(Q, f)"
      ],
      "metadata": {
        "id": "88ZFZBwB0Gk6"
      },
      "execution_count": null,
      "outputs": []
    },
    {
      "cell_type": "markdown",
      "source": [
        "**Load and Adjust Game Images**\n",
        "\n",
        "Loads the image resources needed for the game and scales them to fit the screen size and the size of the game elements."
      ],
      "metadata": {
        "id": "HVdnIUHx0f9n"
      }
    },
    {
      "cell_type": "code",
      "source": [
        "background_img = pygame.image.load(\"background.png\")\n",
        "bird_img = pygame.image.load(\"bird.png\")\n",
        "pipe_top_img = pygame.image.load(\"pipe_top.png\")\n",
        "pipe_bottom_img = pygame.image.load(\"pipe_bottom.png\")\n",
        "\n",
        "background_img = pygame.transform.scale(background_img, (WIDTH, HEIGHT))\n",
        "bird_img = pygame.transform.scale(bird_img, (BIRD_SIZE, BIRD_SIZE))\n",
        "pipe_top_img = pygame.transform.scale(pipe_top_img, (PIPE_WIDTH, HEIGHT))\n",
        "pipe_bottom_img = pygame.transform.scale(pipe_bottom_img, (PIPE_WIDTH, HEIGHT))"
      ],
      "metadata": {
        "id": "IDH1Jo9_0fQ0"
      },
      "execution_count": null,
      "outputs": []
    },
    {
      "cell_type": "markdown",
      "source": [
        "**Define the Bird**\n",
        "\n",
        "The Bird class represents the bird in the game and contains the following functions:\n",
        "\n",
        "Initialize position and speed.\n",
        "\n",
        "Performs a jump (changes speed).\n",
        "\n",
        "Update position (affected by gravity).\n",
        "\n",
        "Draws an image of the bird."
      ],
      "metadata": {
        "id": "LrzcV_7u0xI2"
      }
    },
    {
      "cell_type": "code",
      "source": [
        "class Bird:\n",
        "    def __init__(self):\n",
        "        self.x = 50  # Initial x position of the bird\n",
        "        self.y = HEIGHT // 2  # Initial y position of the bird\n",
        "        self.velocity = 0  # Initial velocity of the bird\n",
        "\n",
        "    def flap(self):\n",
        "        self.velocity = FLAP_STRENGTH  # Apply upward velocity\n",
        "\n",
        "    def update(self):\n",
        "        self.velocity += GRAVITY  # Apply gravity\n",
        "        self.y += self.velocity  # Update bird's position based on velocity\n",
        "\n",
        "    def draw(self):\n",
        "        screen.blit(bird_img, (self.x, self.y))  # Draw the bird on the screen"
      ],
      "metadata": {
        "id": "vzIddYRa0u2I"
      },
      "execution_count": null,
      "outputs": []
    },
    {
      "cell_type": "markdown",
      "source": [
        "Define the Pipe\n",
        "**加粗文字**\n",
        "The Pipe class represents the pipes in the game and contains the following functions:\n",
        "\n",
        "Initialize position (randomly generates intervals between upper and lower pipes).\n",
        "\n",
        "Move the pipe (to the left).\n",
        "\n",
        "Detect if the bird collides with the pipe (using rectangular collision detection)."
      ],
      "metadata": {
        "id": "5_hRil2W1CA7"
      }
    },
    {
      "cell_type": "code",
      "source": [
        "class Pipe:\n",
        "    def __init__(self, x):\n",
        "        self.x = x  # Initial x position of the pipe\n",
        "        self.y = random.randint(100, HEIGHT - PIPE_GAP - 100)  # Random y position within valid range\n",
        "\n",
        "    def update(self):\n",
        "        self.x -= 5  # Move the pipe to the left\n",
        "\n",
        "    def draw(self):\n",
        "        # Draw the top and bottom pipes\n",
        "        screen.blit(pipe_top_img, (self.x, self.y - pipe_top_img.get_height()))\n",
        "        screen.blit(pipe_bottom_img, (self.x, self.y + PIPE_GAP))\n",
        "\n",
        "    def collides_with(self, bird):\n",
        "        # Check if the bird collides with the pipes\n",
        "        bird_rect = pygame.Rect(bird.x, bird.y, BIRD_SIZE, BIRD_SIZE)  # Bird's rectangle\n",
        "        top_pipe_rect = pygame.Rect(self.x, self.y - pipe_top_img.get_height(), PIPE_WIDTH, pipe_top_img.get_height())\n",
        "        bottom_pipe_rect = pygame.Rect(self.x, self.y + PIPE_GAP, PIPE_WIDTH, HEIGHT - (self.y + PIPE_GAP))\n",
        "        return bird_rect.colliderect(top_pipe_rect) or bird_rect.colliderect(bottom_pipe_rect)"
      ],
      "metadata": {
        "id": "VrVsJDfq09wB"
      },
      "execution_count": null,
      "outputs": []
    },
    {
      "cell_type": "markdown",
      "source": [
        "**Define the Background**\n",
        "\n",
        "The Background class handles the scrolling effect of the background to simulate a continuous motion scene."
      ],
      "metadata": {
        "id": "T5H6T45N1TAq"
      }
    },
    {
      "cell_type": "code",
      "source": [
        "class Background:\n",
        "    def __init__(self):\n",
        "        self.x1 = 0  # x position of the first background\n",
        "        self.x2 = WIDTH  # x position of the second background\n",
        "        self.speed = 2  # Scrolling speed\n",
        "\n",
        "    def update(self):\n",
        "        self.x1 -= self.speed  # Move the first background to the left\n",
        "        self.x2 -= self.speed  # Move the second background to the left\n",
        "        # Reset background position when it goes offscreen\n",
        "        if self.x1 + WIDTH < 0:\n",
        "            self.x1 = self.x2 + WIDTH\n",
        "        if self.x2 + WIDTH < 0:\n",
        "            self.x2 = self.x1 + WIDTH\n",
        "\n",
        "    def draw(self):\n",
        "        # Draw the scrolling backgrounds\n",
        "        screen.blit(background_img, (self.x1, 0))\n",
        "        screen.blit(background_img, (self.x2, 0))"
      ],
      "metadata": {
        "id": "x67i3qWA1SQg"
      },
      "execution_count": null,
      "outputs": []
    },
    {
      "cell_type": "markdown",
      "source": [
        "**Main Game Loop**\n",
        "\n",
        "The main loop controls the game logic, including event handling, reinforcement learning Q-value updates, object position updates, collision detection, and drawing screen objects. The game continues to run until the user closes the window."
      ],
      "metadata": {
        "id": "zckMf4GU1ioy"
      }
    },
    {
      "cell_type": "code",
      "source": [
        "def main():\n",
        "    global EPSILON  # Use the global exploration probability\n",
        "    bird = Bird()  # Create a bird object\n",
        "    pipes = [Pipe(WIDTH + i * 200) for i in range(3)]  # Create initial pipes\n",
        "    background = Background()  # Create a background object\n",
        "    clock = pygame.time.Clock()  # Create a clock for controlling FPS\n",
        "    score = 0  # Initialize score\n",
        "    running = True  # Game running flag\n",
        "\n",
        "    while running:\n",
        "        for event in pygame.event.get():\n",
        "            if event.type == pygame.QUIT:  # Check for quit event\n",
        "                running = False"
      ],
      "metadata": {
        "id": "aqPVcqJx1a_F"
      },
      "execution_count": null,
      "outputs": []
    }
  ]
}